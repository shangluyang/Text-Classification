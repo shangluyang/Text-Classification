{
  "nbformat": 4,
  "nbformat_minor": 0,
  "metadata": {
    "colab": {
      "name": " random forest.ipynb",
      "provenance": []
    },
    "kernelspec": {
      "name": "python3",
      "display_name": "Python 3"
    },
    "language_info": {
      "name": "python"
    }
  },
  "cells": [
    {
      "cell_type": "code",
      "execution_count": 1,
      "metadata": {
        "colab": {
          "base_uri": "https://localhost:8080/"
        },
        "id": "41n7JVqQ47M_",
        "outputId": "a2258e26-cac5-44f7-d4fd-aad7bd8dd31b"
      },
      "outputs": [
        {
          "output_type": "stream",
          "name": "stdout",
          "text": [
            "Mounted at /content/gdrive/\n"
          ]
        }
      ],
      "source": [
        "import sys\n",
        "from google.colab import drive\n",
        "drive.mount('/content/gdrive/')\n",
        "sys.path.append('/content/gdrive/MyDrive/data')"
      ]
    },
    {
      "cell_type": "code",
      "source": [
        "SYSPATH = '/content/gdrive/MyDrive/data/' \n",
        "STOP_WORDS = SYSPATH + 'stopwords.txt'\n",
        "import pandas as pd\n",
        "from collections import defaultdict\n",
        "from collections import Counter\n",
        "import numpy as np\n",
        "import matplotlib.pyplot as plt\n",
        "import jieba\n",
        "from sklearn.feature_extraction.text import TfidfVectorizer\n",
        "from sklearn.model_selection import train_test_split\n",
        "from sklearn.ensemble import RandomForestClassifier\n",
        "import pandas as pd\n",
        "from sklearn.metrics import accuracy_score\n",
        "from sklearn.metrics import recall_score\n",
        "from sklearn.metrics import precision_score\n",
        "from sklearn.metrics import f1_score"
      ],
      "metadata": {
        "id": "Zdt3wK-w5EBv"
      },
      "execution_count": 2,
      "outputs": []
    },
    {
      "cell_type": "code",
      "source": [
        "content = pd.read_csv(SYSPATH + 'train.csv')\n",
        "# get sentence length\n",
        "content['sentence_len'] = content['sentence'].apply(len)"
      ],
      "metadata": {
        "id": "3qnhJ-wQNKFV"
      },
      "execution_count": 5,
      "outputs": []
    },
    {
      "cell_type": "code",
      "source": [
        "np.max(content['sentence_len'])"
      ],
      "metadata": {
        "colab": {
          "base_uri": "https://localhost:8080/"
        },
        "id": "qIxneWBTQXvr",
        "outputId": "d6da17b4-335c-4b89-baa4-e5c48a06aa0f"
      },
      "execution_count": 6,
      "outputs": [
        {
          "output_type": "execute_result",
          "data": {
            "text/plain": [
              "38"
            ]
          },
          "metadata": {},
          "execution_count": 6
        }
      ]
    },
    {
      "cell_type": "code",
      "source": [
        "np.mean(content['sentence_len'])"
      ],
      "metadata": {
        "colab": {
          "base_uri": "https://localhost:8080/"
        },
        "id": "k_Z-qiCHQh-1",
        "outputId": "ac00caf5-6dfc-4ccc-f1f7-c4ab43e4e9fb"
      },
      "execution_count": 7,
      "outputs": [
        {
          "output_type": "execute_result",
          "data": {
            "text/plain": [
              "19.21257222222222"
            ]
          },
          "metadata": {},
          "execution_count": 7
        }
      ]
    },
    {
      "cell_type": "code",
      "source": [
        "np.std(content['sentence_len'])"
      ],
      "metadata": {
        "colab": {
          "base_uri": "https://localhost:8080/"
        },
        "id": "4en9MhCCQjuI",
        "outputId": "1537e795-ce1d-4a01-95e0-8d87a9b67ecf"
      },
      "execution_count": 8,
      "outputs": [
        {
          "output_type": "execute_result",
          "data": {
            "text/plain": [
              "3.863787253359747"
            ]
          },
          "metadata": {},
          "execution_count": 8
        }
      ]
    },
    {
      "cell_type": "code",
      "source": [
        "plt.hist(content['sentence_len'], bins=50)"
      ],
      "metadata": {
        "colab": {
          "base_uri": "https://localhost:8080/",
          "height": 551
        },
        "id": "TBm4rD_yQpsM",
        "outputId": "fa7db108-188c-4c5d-9870-dfa6325f8957"
      },
      "execution_count": 9,
      "outputs": [
        {
          "output_type": "execute_result",
          "data": {
            "text/plain": [
              "(array([1.0000e+00, 1.9000e+01, 2.8000e+01, 0.0000e+00, 5.7000e+01,\n",
              "        1.4500e+02, 0.0000e+00, 3.8700e+02, 6.4300e+02, 0.0000e+00,\n",
              "        1.5730e+03, 2.3030e+03, 3.7700e+03, 0.0000e+00, 5.5890e+03,\n",
              "        7.1530e+03, 0.0000e+00, 9.3560e+03, 1.2216e+04, 0.0000e+00,\n",
              "        1.7374e+04, 1.5749e+04, 1.4456e+04, 0.0000e+00, 1.4936e+04,\n",
              "        1.7097e+04, 0.0000e+00, 1.7571e+04, 1.7521e+04, 0.0000e+00,\n",
              "        9.4470e+03, 6.8100e+03, 3.2280e+03, 0.0000e+00, 1.5700e+03,\n",
              "        6.0600e+02, 0.0000e+00, 2.1400e+02, 8.3000e+01, 0.0000e+00,\n",
              "        5.0000e+01, 2.4000e+01, 1.3000e+01, 0.0000e+00, 3.0000e+00,\n",
              "        2.0000e+00, 0.0000e+00, 3.0000e+00, 1.0000e+00, 2.0000e+00]),\n",
              " array([ 3. ,  3.7,  4.4,  5.1,  5.8,  6.5,  7.2,  7.9,  8.6,  9.3, 10. ,\n",
              "        10.7, 11.4, 12.1, 12.8, 13.5, 14.2, 14.9, 15.6, 16.3, 17. , 17.7,\n",
              "        18.4, 19.1, 19.8, 20.5, 21.2, 21.9, 22.6, 23.3, 24. , 24.7, 25.4,\n",
              "        26.1, 26.8, 27.5, 28.2, 28.9, 29.6, 30.3, 31. , 31.7, 32.4, 33.1,\n",
              "        33.8, 34.5, 35.2, 35.9, 36.6, 37.3, 38. ]),\n",
              " <a list of 50 Patch objects>)"
            ]
          },
          "metadata": {},
          "execution_count": 9
        },
        {
          "output_type": "display_data",
          "data": {
            "text/plain": [
              "<Figure size 432x288 with 1 Axes>"
            ],
            "image/png": "[encoded data removed]"
          },
          "metadata": {
            "needs_background": "light"
          }
        }
      ]
    },
    {
      "cell_type": "code",
      "source": [
        "# cut sentence into word\n",
        "def cut_sentence(sentence): \n",
        "  return ' '.join(list(jieba.cut(sentence)))\n",
        "\n",
        "content['words'] = content['sentence'].apply(lambda sentence: cut_sentence(sentence))"
      ],
      "metadata": {
        "colab": {
          "base_uri": "https://localhost:8080/"
        },
        "id": "FXQGO1JBQ_iW",
        "outputId": "15b72724-d7f1-4fc2-fbef-687b55166b63"
      },
      "execution_count": 10,
      "outputs": [
        {
          "output_type": "stream",
          "name": "stderr",
          "text": [
            "Building prefix dict from the default dictionary ...\n",
            "Dumping model to file cache /tmp/jieba.cache\n",
            "Loading model cost 1.189 seconds.\n",
            "Prefix dict has been built successfully.\n"
          ]
        }
      ]
    },
    {
      "cell_type": "code",
      "source": [
        "stop_words =  open(STOP_WORDS, encoding='gbk').read().split()"
      ],
      "metadata": {
        "id": "eSaGJ74lRrHF"
      },
      "execution_count": 11,
      "outputs": []
    },
    {
      "cell_type": "code",
      "source": [
        "def remove_stopwords(sentence):\n",
        "  sentence_remove = []\n",
        "  for word in sentence.split(' '):\n",
        "    if word not in stop_words:\n",
        "      sentence_remove.append(word)\n",
        "  return ' '.join(sentence_remove)  "
      ],
      "metadata": {
        "id": "VRyCka6mSMZj"
      },
      "execution_count": 12,
      "outputs": []
    },
    {
      "cell_type": "code",
      "source": [
        "content['word_clean'] = content['words'].apply(remove_stopwords)"
      ],
      "metadata": {
        "id": "Nw8_cYQNcUnc"
      },
      "execution_count": 13,
      "outputs": []
    },
    {
      "cell_type": "code",
      "source": [
        "sentences = content['word_clean'].tolist()\n",
        "sentences = list(map(lambda s: s.split(), sentences))\n",
        "from functools import reduce\n",
        "all_words = reduce(lambda a, b: a + b, sentences)\n",
        "words_count = Counter(all_words)"
      ],
      "metadata": {
        "id": "kt-g7Vj1g13p"
      },
      "execution_count": 16,
      "outputs": []
    },
    {
      "cell_type": "code",
      "source": [
        "plt.plot(list(map(lambda n: np.log(n), sorted(words_count.values(), reverse=True)[100:8000])))"
      ],
      "metadata": {
        "colab": {
          "base_uri": "https://localhost:8080/",
          "height": 287
        },
        "id": "NUjqMhfVrgGb",
        "outputId": "ba7b0358-29aa-4d79-c7e0-2c3c27447f0c"
      },
      "execution_count": 17,
      "outputs": [
        {
          "output_type": "execute_result",
          "data": {
            "text/plain": [
              "[<matplotlib.lines.Line2D at 0x7fba5dff3d10>]"
            ]
          },
          "metadata": {},
          "execution_count": 17
        },
        {
          "output_type": "display_data",
          "data": {
            "text/plain": [
              "<Figure size 432x288 with 1 Axes>"
            ],
            "image/png": "[encoded data removed]"
          },
          "metadata": {
            "needs_background": "light"
          }
        }
      ]
    },
    {
      "cell_type": "code",
      "source": [
        "corpus = content['word_clean'].values\n",
        "common_word = [w for w, _ in sorted(words_count.items(), key=lambda kv: kv[1], reverse=True)[:100]]\n",
        "\n",
        "stop_words_size = 100\n",
        "WORDS_LONG_TAIL_BEGIN = 8000\n",
        "WORDS_SIZE = WORDS_LONG_TAIL_BEGIN - stop_words_size\n",
        "\n",
        "tfidf = TfidfVectorizer(max_features=WORDS_SIZE, stop_words=common_word)\n",
        "text_vectors = tfidf.fit_transform(corpus)\n",
        "print(text_vectors.shape)\n",
        "\n",
        "targets = content['label']\n",
        "\n",
        "x_train, x_test, y_train, y_test = train_test_split(text_vectors, targets, test_size=0.2, random_state=0)\n",
        "\n",
        "rf = RandomForestClassifier()\n",
        "rf.fit(x_train, y_train)"
      ],
      "metadata": {
        "colab": {
          "base_uri": "https://localhost:8080/"
        },
        "id": "mJLNuX_ccoth",
        "outputId": "93447b50-6599-42c1-96a3-0621173c0b1b"
      },
      "execution_count": 18,
      "outputs": [
        {
          "output_type": "stream",
          "name": "stderr",
          "text": [
            "/usr/local/lib/python3.7/dist-packages/sklearn/feature_extraction/text.py:401: UserWarning: Your stop_words may be inconsistent with your preprocessing. Tokenizing the stop words generated tokens ['ol'] not in stop_words.\n",
            "  % sorted(inconsistent)\n"
          ]
        },
        {
          "output_type": "stream",
          "name": "stdout",
          "text": [
            "(180000, 7900)\n"
          ]
        },
        {
          "output_type": "execute_result",
          "data": {
            "text/plain": [
              "RandomForestClassifier()"
            ]
          },
          "metadata": {},
          "execution_count": 18
        }
      ]
    },
    {
      "cell_type": "code",
      "source": [
        "accuracy_score(rf.predict(x_test), y_test)"
      ],
      "metadata": {
        "colab": {
          "base_uri": "https://localhost:8080/"
        },
        "id": "YDHpGZrVxEnG",
        "outputId": "a96aefa3-a86e-4a7e-8e7e-293dd2e03fce"
      },
      "execution_count": 19,
      "outputs": [
        {
          "output_type": "execute_result",
          "data": {
            "text/plain": [
              "0.7783888888888889"
            ]
          },
          "metadata": {},
          "execution_count": 19
        }
      ]
    },
    {
      "cell_type": "code",
      "source": [
        "recall_score(rf.predict(x_test), y_test, average='macro')"
      ],
      "metadata": {
        "colab": {
          "base_uri": "https://localhost:8080/"
        },
        "id": "-gwHGW4ixA43",
        "outputId": "c481efb7-e94a-4a9e-8fc8-e677c80d0ac3"
      },
      "execution_count": 23,
      "outputs": [
        {
          "output_type": "execute_result",
          "data": {
            "text/plain": [
              "0.7804010380344132"
            ]
          },
          "metadata": {},
          "execution_count": 23
        }
      ]
    },
    {
      "cell_type": "code",
      "source": [
        "precision_score(rf.predict(x_test), y_test, average='macro')"
      ],
      "metadata": {
        "colab": {
          "base_uri": "https://localhost:8080/"
        },
        "id": "G8e57uG2xFS3",
        "outputId": "0aba2ec6-e849-451d-9cd0-34ba5086a2d5"
      },
      "execution_count": 24,
      "outputs": [
        {
          "output_type": "execute_result",
          "data": {
            "text/plain": [
              "0.7787753779227037"
            ]
          },
          "metadata": {},
          "execution_count": 24
        }
      ]
    },
    {
      "cell_type": "code",
      "source": [
        "f1_score(rf.predict(x_test), y_test, average='macro')"
      ],
      "metadata": {
        "colab": {
          "base_uri": "https://localhost:8080/"
        },
        "id": "mAhBoO7KxSJ5",
        "outputId": "4b487c4d-751c-4dbb-8ae1-6ee3318d2c59"
      },
      "execution_count": 25,
      "outputs": [
        {
          "output_type": "execute_result",
          "data": {
            "text/plain": [
              "0.7791232331563027"
            ]
          },
          "metadata": {},
          "execution_count": 25
        }
      ]
    }
  ]
}