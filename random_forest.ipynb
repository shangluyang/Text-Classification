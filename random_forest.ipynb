{
  "nbformat": 4,
  "nbformat_minor": 0,
  "metadata": {
    "colab": {
      "name": " random forest.ipynb",
      "provenance": []
    },
    "kernelspec": {
      "name": "python3",
      "display_name": "Python 3"
    },
    "language_info": {
      "name": "python"
    }
  },
  "cells": [
    {
      "cell_type": "code",
      "execution_count": 1,
      "metadata": {
        "colab": {
          "base_uri": "https://localhost:8080/"
        },
        "id": "41n7JVqQ47M_",
        "outputId": "319bd9a0-12f1-4dd0-83e0-040549dd99b4"
      },
      "outputs": [
        {
          "output_type": "stream",
          "name": "stdout",
          "text": [
            "Mounted at /content/gdrive/\n"
          ]
        }
      ],
      "source": [
        "import sys\n",
        "from google.colab import drive\n",
        "drive.mount('/content/gdrive/')\n",
        "sys.path.append('/content/gdrive/MyDrive/data')"
      ]
    },
    {
      "cell_type": "code",
      "source": [
        "SYSPATH = '/content/gdrive/MyDrive/data/' \n",
        "STOP_WORDS = SYSPATH + 'stopwords.txt'\n",
        "import pandas as pd\n",
        "from collections import defaultdict\n",
        "from collections import Counter\n",
        "import numpy as np\n",
        "import matplotlib.pyplot as plt\n",
        "import jieba\n",
        "from sklearn.feature_extraction.text import TfidfVectorizer\n",
        "from sklearn.model_selection import train_test_split\n",
        "from sklearn.ensemble import RandomForestClassifier\n",
        "import pandas as pd\n",
        "from sklearn.metrics import accuracy_score\n",
        "from sklearn.metrics import recall_score\n",
        "from sklearn.metrics import precision_score\n",
        "from sklearn.metrics import f1_score"
      ],
      "metadata": {
        "id": "Zdt3wK-w5EBv"
      },
      "execution_count": 60,
      "outputs": []
    },
    {
      "cell_type": "code",
      "source": [
        "content = pd.read_csv(SYSPATH + 'train.csv')\n",
        "# get sentence length\n",
        "content['sentence_len'] = content['sentence'].apply(len)"
      ],
      "metadata": {
        "id": "3qnhJ-wQNKFV"
      },
      "execution_count": 9,
      "outputs": []
    },
    {
      "cell_type": "code",
      "source": [
        "np.max(content['sentence_len'])"
      ],
      "metadata": {
        "colab": {
          "base_uri": "https://localhost:8080/"
        },
        "id": "qIxneWBTQXvr",
        "outputId": "67c19420-4eaf-4af5-87c8-7a3c78297a49"
      },
      "execution_count": 22,
      "outputs": [
        {
          "output_type": "execute_result",
          "data": {
            "text/plain": [
              "145"
            ]
          },
          "metadata": {},
          "execution_count": 22
        }
      ]
    },
    {
      "cell_type": "code",
      "source": [
        "np.mean(content['sentence_len'])"
      ],
      "metadata": {
        "colab": {
          "base_uri": "https://localhost:8080/"
        },
        "id": "k_Z-qiCHQh-1",
        "outputId": "def9a210-c913-4f2d-b3ea-45e52bc06e10"
      },
      "execution_count": 11,
      "outputs": [
        {
          "output_type": "execute_result",
          "data": {
            "text/plain": [
              "22.13124062968516"
            ]
          },
          "metadata": {},
          "execution_count": 11
        }
      ]
    },
    {
      "cell_type": "code",
      "source": [
        "np.std(content['sentence_len'])"
      ],
      "metadata": {
        "colab": {
          "base_uri": "https://localhost:8080/"
        },
        "id": "4en9MhCCQjuI",
        "outputId": "8f9b2219-521a-42ab-f939-573c210eb8e3"
      },
      "execution_count": 12,
      "outputs": [
        {
          "output_type": "execute_result",
          "data": {
            "text/plain": [
              "7.3097918579505325"
            ]
          },
          "metadata": {},
          "execution_count": 12
        }
      ]
    },
    {
      "cell_type": "code",
      "source": [
        "plt.hist(content['sentence_len'], bins=50)"
      ],
      "metadata": {
        "colab": {
          "base_uri": "https://localhost:8080/",
          "height": 554
        },
        "id": "TBm4rD_yQpsM",
        "outputId": "b68f48c2-0348-45fa-a2fd-8d2f5aa89716"
      },
      "execution_count": 17,
      "outputs": [
        {
          "output_type": "execute_result",
          "data": {
            "text/plain": [
              "(array([2.200e+01, 6.210e+02, 2.313e+03, 4.475e+03, 5.769e+03, 6.698e+03,\n",
              "        6.917e+03, 4.824e+03, 7.290e+03, 9.416e+03, 2.974e+03, 9.350e+02,\n",
              "        5.870e+02, 3.000e+02, 1.140e+02, 4.600e+01, 3.500e+01, 1.000e+01,\n",
              "        6.000e+00, 5.000e+00, 1.000e+00, 0.000e+00, 0.000e+00, 0.000e+00,\n",
              "        0.000e+00, 0.000e+00, 0.000e+00, 0.000e+00, 0.000e+00, 0.000e+00,\n",
              "        0.000e+00, 0.000e+00, 0.000e+00, 1.000e+00, 0.000e+00, 0.000e+00,\n",
              "        0.000e+00, 0.000e+00, 0.000e+00, 0.000e+00, 0.000e+00, 0.000e+00,\n",
              "        0.000e+00, 0.000e+00, 0.000e+00, 0.000e+00, 0.000e+00, 0.000e+00,\n",
              "        0.000e+00, 1.000e+00]),\n",
              " array([  2.  ,   4.86,   7.72,  10.58,  13.44,  16.3 ,  19.16,  22.02,\n",
              "         24.88,  27.74,  30.6 ,  33.46,  36.32,  39.18,  42.04,  44.9 ,\n",
              "         47.76,  50.62,  53.48,  56.34,  59.2 ,  62.06,  64.92,  67.78,\n",
              "         70.64,  73.5 ,  76.36,  79.22,  82.08,  84.94,  87.8 ,  90.66,\n",
              "         93.52,  96.38,  99.24, 102.1 , 104.96, 107.82, 110.68, 113.54,\n",
              "        116.4 , 119.26, 122.12, 124.98, 127.84, 130.7 , 133.56, 136.42,\n",
              "        139.28, 142.14, 145.  ]),\n",
              " <a list of 50 Patch objects>)"
            ]
          },
          "metadata": {},
          "execution_count": 17
        },
        {
          "output_type": "display_data",
          "data": {
            "text/plain": [
              "<Figure size 432x288 with 1 Axes>"
            ],
            "image/png": "[encoded data removed]"
          },
          "metadata": {
            "needs_background": "light"
          }
        }
      ]
    },
    {
      "cell_type": "code",
      "source": [
        "# cut sentence into word\n",
        "def cut_sentence(sentence): \n",
        "  return ' '.join(list(jieba.cut(sentence)))\n",
        "\n",
        "content['words'] = content['sentence'].apply(lambda sentence: cut_sentence(sentence))"
      ],
      "metadata": {
        "colab": {
          "base_uri": "https://localhost:8080/"
        },
        "id": "FXQGO1JBQ_iW",
        "outputId": "ef3ca8f4-15ab-4fc1-cf9c-a9694066c140"
      },
      "execution_count": 19,
      "outputs": [
        {
          "output_type": "stream",
          "name": "stderr",
          "text": [
            "Building prefix dict from the default dictionary ...\n",
            "Dumping model to file cache /tmp/jieba.cache\n",
            "Loading model cost 1.003 seconds.\n",
            "Prefix dict has been built successfully.\n"
          ]
        }
      ]
    },
    {
      "cell_type": "code",
      "source": [
        "stop_words =  open(STOP_WORDS, encoding='gbk').read().split()"
      ],
      "metadata": {
        "id": "eSaGJ74lRrHF"
      },
      "execution_count": 39,
      "outputs": []
    },
    {
      "cell_type": "code",
      "source": [
        "def remove_stopwords(sentence):\n",
        "  sentence_remove = []\n",
        "  for word in sentence.split(' '):\n",
        "    if word not in stop_words:\n",
        "      sentence_remove.append(word)\n",
        "  return ' '.join(sentence_remove)  "
      ],
      "metadata": {
        "id": "VRyCka6mSMZj"
      },
      "execution_count": 63,
      "outputs": []
    },
    {
      "cell_type": "code",
      "source": [
        "content['word_clean'] = content['words'].apply(remove_stopwords)"
      ],
      "metadata": {
        "id": "Nw8_cYQNcUnc"
      },
      "execution_count": 64,
      "outputs": []
    },
    {
      "cell_type": "code",
      "source": [
        "sentences = content['word_clean'].tolist()\n",
        "sentences = list(map(lambda s: s.split(), sentences))\n",
        "from functools import reduce\n",
        "all_words = reduce(lambda a, b: a + b, sentences)\n",
        "words_count = Counter(all_words)"
      ],
      "metadata": {
        "id": "kt-g7Vj1g13p"
      },
      "execution_count": null,
      "outputs": []
    },
    {
      "cell_type": "code",
      "source": [
        "plt.plot(list(map(lambda n: np.log(n), sorted(words_count.values(), reverse=True)[100:8000])))"
      ],
      "metadata": {
        "colab": {
          "base_uri": "https://localhost:8080/",
          "height": 282
        },
        "id": "NUjqMhfVrgGb",
        "outputId": "cec779ef-0b29-45aa-88c5-31a8a29eb9d0"
      },
      "execution_count": 74,
      "outputs": [
        {
          "output_type": "execute_result",
          "data": {
            "text/plain": [
              "[<matplotlib.lines.Line2D at 0x7f16bc2f3290>]"
            ]
          },
          "metadata": {},
          "execution_count": 74
        },
        {
          "output_type": "display_data",
          "data": {
            "text/plain": [
              "<Figure size 432x288 with 1 Axes>"
            ],
            "image/png": "[encoded data removed]"
          },
          "metadata": {
            "needs_background": "light"
          }
        }
      ]
    },
    {
      "cell_type": "code",
      "source": [
        "corpus = content['word_clean'].values\n",
        "common_word = [w for w, _ in sorted(words_count.items(), key=lambda kv: kv[1], reverse=True)[:100]]\n",
        "\n",
        "stop_words_size = 100\n",
        "WORDS_LONG_TAIL_BEGIN = 8000\n",
        "WORDS_SIZE = WORDS_LONG_TAIL_BEGIN - stop_words_size\n",
        "\n",
        "tfidf = TfidfVectorizer(max_features=WORDS_SIZE, stop_words=common_word)\n",
        "text_vectors = tfidf.fit_transform(corpus)\n",
        "print(text_vectors.shape)\n",
        "\n",
        "targets = content['label']\n",
        "\n",
        "x_train, x_test, y_train, y_test = train_test_split(text_vectors, targets, test_size=0.2, random_state=0)\n",
        "\n",
        "rf = RandomForestClassifier()\n",
        "rf.fit(x_train, y_train)"
      ],
      "metadata": {
        "colab": {
          "base_uri": "https://localhost:8080/"
        },
        "id": "mJLNuX_ccoth",
        "outputId": "03980920-6b4b-45f6-c5fb-cd7ab026c9fb"
      },
      "execution_count": 77,
      "outputs": [
        {
          "output_type": "stream",
          "name": "stdout",
          "text": [
            "(53360, 7900)\n"
          ]
        },
        {
          "output_type": "execute_result",
          "data": {
            "text/plain": [
              "0.485476011994003"
            ]
          },
          "metadata": {},
          "execution_count": 77
        }
      ]
    },
    {
      "cell_type": "code",
      "source": [
        "accuracy_score(rf.predict(x_test), y_test)"
      ],
      "metadata": {
        "colab": {
          "base_uri": "https://localhost:8080/"
        },
        "id": "YDHpGZrVxEnG",
        "outputId": "7b3c4a2e-b050-4b94-ecb6-d74109675289"
      },
      "execution_count": 81,
      "outputs": [
        {
          "output_type": "execute_result",
          "data": {
            "text/plain": [
              "0.485476011994003"
            ]
          },
          "metadata": {},
          "execution_count": 81
        }
      ]
    },
    {
      "cell_type": "code",
      "source": [
        "recall_score(rf.predict(x_test), y_test, average='weighted')"
      ],
      "metadata": {
        "colab": {
          "base_uri": "https://localhost:8080/"
        },
        "id": "-gwHGW4ixA43",
        "outputId": "4733e3c8-4bf1-4201-8957-80867ea57566"
      },
      "execution_count": 80,
      "outputs": [
        {
          "output_type": "execute_result",
          "data": {
            "text/plain": [
              "0.485476011994003"
            ]
          },
          "metadata": {},
          "execution_count": 80
        }
      ]
    },
    {
      "cell_type": "code",
      "source": [
        "precision_score(rf.predict(x_test), y_test, average='weighted')"
      ],
      "metadata": {
        "colab": {
          "base_uri": "https://localhost:8080/"
        },
        "id": "G8e57uG2xFS3",
        "outputId": "7be1c9ea-c3dd-4668-c61f-d91efe9cfff2"
      },
      "execution_count": 83,
      "outputs": [
        {
          "output_type": "execute_result",
          "data": {
            "text/plain": [
              "0.4919691234285343"
            ]
          },
          "metadata": {},
          "execution_count": 83
        }
      ]
    },
    {
      "cell_type": "code",
      "source": [
        "f1_score(rf.predict(x_test), y_test, average='weighted')"
      ],
      "metadata": {
        "colab": {
          "base_uri": "https://localhost:8080/"
        },
        "id": "mAhBoO7KxSJ5",
        "outputId": "6f6c0a38-21b1-4c16-fec3-0c77123efb6a"
      },
      "execution_count": 82,
      "outputs": [
        {
          "output_type": "execute_result",
          "data": {
            "text/plain": [
              "0.48446919889126755"
            ]
          },
          "metadata": {},
          "execution_count": 82
        }
      ]
    }
  ]
}