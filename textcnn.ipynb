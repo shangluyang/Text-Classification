{
  "cells": [
    {
      "cell_type": "code",
      "execution_count": 2,
      "metadata": {
        "colab": {
          "base_uri": "https://localhost:8080/"
        },
        "id": "hQMxEixJ3XZj",
        "outputId": "183cc9c3-af7c-4adc-9594-a41bad0e617f"
      },
      "outputs": [
        {
          "output_type": "stream",
          "name": "stdout",
          "text": [
            "Mounted at /content/gdrive/\n"
          ]
        }
      ],
      "source": [
        "import sys\n",
        "from google.colab import drive\n",
        "drive.mount('/content/gdrive/')\n",
        "sys.path.append('/content/gdrive/MyDrive/data')"
      ]
    },
    {
      "cell_type": "code",
      "execution_count": 8,
      "metadata": {
        "id": "cqUcN-rU3opX"
      },
      "outputs": [],
      "source": [
        "SYSPATH = '/content/gdrive/MyDrive/data/'\n",
        "WORD_EMBEDDING_FILE = SYSPATH + 'sgns.weibo.word.bz2'"
      ]
    },
    {
      "cell_type": "code",
      "execution_count": 77,
      "metadata": {
        "colab": {
          "base_uri": "https://localhost:8080/"
        },
        "id": "jwR6PDuYEIMG",
        "outputId": "200cc1cd-6232-4afa-f959-d5e3f59126ab"
      },
      "outputs": [
        {
          "output_type": "execute_result",
          "data": {
            "text/plain": [
              "2021"
            ]
          },
          "metadata": {},
          "execution_count": 77
        }
      ],
      "source": [
        "import torch \n",
        "import torch.nn as nn\n",
        "\n",
        "config = {\n",
        "    'train_file_path': SYSPATH + 'train.csv',\n",
        "    'test_file_path': SYSPATH + 'test.csv',\n",
        "    # 10% data are validation set\n",
        "    'train_val_ratio': 0.1,\n",
        "    'vocab_size': 30000,\n",
        "    'batch_size': 64,\n",
        "    'num_epochs': 10,\n",
        "    'learning_rate': 1e-3,\n",
        "    'logging_step': 100,\n",
        "    'seed': 2021\n",
        "}\n",
        "\n",
        "config['device'] = 'gpu' if torch.cuda.is_available() else 'cpu'\n",
        "\n",
        "\n",
        "\n",
        "import random\n",
        "import numpy as np\n",
        "\n",
        "def seed_everything(seed):\n",
        "    random.seed(seed)\n",
        "    np.random.seed(seed)\n",
        "    torch.manual_seed(seed)\n",
        "    torch.cuda.manual_seed_all(seed)\n",
        "    return seed\n",
        "\n",
        "seed_everything(config['seed'])"
      ]
    },
    {
      "cell_type": "code",
      "execution_count": 6,
      "metadata": {
        "id": "-c6KBwsdEIMH"
      },
      "outputs": [],
      "source": [
        "# reading the dataset\n",
        "from collections import Counter\n",
        "from tqdm import tqdm\n",
        "import jieba\n",
        "\n",
        "def get_vocab(config):\n",
        "  token_counter = Counter()\n",
        "  with open(config['train_file_path'], 'r', encoding='utf8') as f:\n",
        "    lines = f.readlines()[1:]\n",
        "    for line in tqdm(lines, desc='Counting tokens', total=len(lines)):\n",
        "        sentence = line.split(',')[-1].strip()\n",
        "        # seperate sentence\n",
        "        sentence_cut = list(jieba.cut(sentence))\n",
        "        token_counter.update(sentence_cut)\n",
        "  vocab = [token for token, _ in token_counter.most_common(config['vocab_size'])]\n",
        "  f.close()\n",
        "  return vocab"
      ]
    },
    {
      "cell_type": "code",
      "execution_count": 10,
      "metadata": {
        "colab": {
          "base_uri": "https://localhost:8080/"
        },
        "id": "_h-9E-7rEIMI",
        "outputId": "73d6c250-34a1-4801-8d56-87e10e144cf1"
      },
      "outputs": [
        {
          "output_type": "stream",
          "name": "stderr",
          "text": [
            "Counting tokens: 100%|██████████| 53360/53360 [00:07<00:00, 7529.02it/s]\n"
          ]
        }
      ],
      "source": [
        "vocab = get_vocab(config)"
      ]
    },
    {
      "cell_type": "code",
      "execution_count": 11,
      "metadata": {
        "id": "sMHgOcRaEIMJ"
      },
      "outputs": [],
      "source": [
        "# open word embedding\n",
        "import bz2\n",
        "with bz2.open(WORD_EMBEDDING_FILE) as f:\n",
        "  token_vector = f.readlines()"
      ]
    },
    {
      "cell_type": "code",
      "execution_count": 17,
      "metadata": {
        "id": "UPaR1E5q9VrZ"
      },
      "outputs": [],
      "source": [
        "# get word embedding for each word\n",
        "import random\n",
        "def get_embedding(vocab):\n",
        "  token2embedding = {}\n",
        "  voc_size, dim = token_vector[0].split()\n",
        "  print(f'{voc_size} tokens in embedding file, vector size is {dim}')\n",
        "  for line in tqdm(token_vector[1:]):\n",
        "    line = line.split() \n",
        "    token = line[0].decode('utf8')\n",
        "    vector = line[1:]\n",
        "    if token in vocab:\n",
        "      token2embedding[token] = list(map(float, vector))\n",
        "\n",
        "  # 4 special character\n",
        "  token2id = {token: id for id, token in enumerate(token2embedding.keys(), 4)}\n",
        "  id2embedding = {token2id[token]: embedding for token, embedding in token2embedding.items()}\n",
        "  UNK, PAD, BOS, EOD = '<unk> <pad> <bos> <eos>'.split()\n",
        "  token2id[PAD] = 0\n",
        "  token2id[UNK] = 1\n",
        "  token2id[BOS] = 2\n",
        "  token2id[EOD] = 3\n",
        "\n",
        "  id2embedding[0] = [0.] * int(dim)\n",
        "  id2embedding[1] = [0.] * int(dim)\n",
        "  id2embedding[2] = [random.uniform(-1, 1)] * int(dim)\n",
        "  id2embedding[3] = [random.uniform(-1, 1)] * int(dim)\n",
        "  embedding = [id2embedding[i] for i in range(len(id2embedding))]\n",
        "  return torch.tensor(embedding, dtype=torch.float), token2id, len(vocab) + 4"
      ]
    },
    {
      "cell_type": "code",
      "execution_count": 18,
      "metadata": {
        "colab": {
          "base_uri": "https://localhost:8080/"
        },
        "id": "PIGS8lJjDzIs",
        "outputId": "5024bb7e-c3fb-422f-ae72-b578ad0b2b9e"
      },
      "outputs": [
        {
          "output_type": "stream",
          "name": "stdout",
          "text": [
            "b'195202' tokens in embedding file, vector size is b'300'\n"
          ]
        },
        {
          "output_type": "stream",
          "name": "stderr",
          "text": [
            "100%|██████████| 195202/195202 [02:45<00:00, 1176.00it/s]\n"
          ]
        }
      ],
      "source": [
        "embedding, token2id, config['vocab_size'] = get_embedding(vocab)"
      ]
    },
    {
      "cell_type": "code",
      "execution_count": 19,
      "metadata": {
        "id": "Pz6MBg_C75z0"
      },
      "outputs": [],
      "source": [
        "# get tokenized id, use it to find corresponding word embedding\n",
        "def tokenizer(sentence, token2id):\n",
        "  ids = [token2id.get(token, 1) for token in jieba.cut(sentence)]\n",
        "  return ids"
      ]
    },
    {
      "cell_type": "markdown",
      "source": [
        "# Read dataset"
      ],
      "metadata": {
        "id": "dTx7ZDYUR8dd"
      }
    },
    {
      "cell_type": "code",
      "execution_count": 28,
      "metadata": {
        "id": "WdZV5lrAKXLs"
      },
      "outputs": [],
      "source": [
        "import pandas as pd\n",
        "from collections import defaultdict\n",
        "\n",
        "# for training set, we split training set into training and validation set.\n",
        "def read_data(config, token2id, mode='train'):\n",
        "  df = pd.read_csv(config[mode + '_file_path'], sep=',')\n",
        "  if mode == 'train':\n",
        "    X_train, y_train = defaultdict(list), []\n",
        "    X_val, y_val = defaultdict(list), []\n",
        "    num_val = int(config['train_val_ratio'] * len(df))\n",
        "  else:\n",
        "    X_test, y_test = defaultdict(list), []\n",
        "\n",
        "  for i, row in df.iterrows():\n",
        "    label = row[1] if mode == 'train' else 0\n",
        "    sentence = row[-1]\n",
        "    inputs = tokenizer(sentence, token2id)\n",
        "    if mode == 'train':\n",
        "      if i < num_val:\n",
        "        X_val['input_ids'].append(inputs)\n",
        "        y_val.append(label)\n",
        "      else:\n",
        "        X_train['input_ids'].append(inputs)\n",
        "        y_train.append(label)\n",
        "    else:\n",
        "      X_test['input_ids'].append(inputs)\n",
        "      y_test.append(label)\n",
        "\n",
        "  if mode == 'train':\n",
        "    label2id = {label: i for i, label in enumerate(np.unique(y_train))}\n",
        "    id2label = {i: label for label, i in label2id.items()}\n",
        "\n",
        "    y_train = torch.tensor([label2id[label] for label in y_train], dtype=torch.long)\n",
        "    y_val = torch.tensor([label2id[label] for label in y_val], dtype=torch.long)\n",
        "    return X_train, y_train, X_val, y_val, label2id, id2label\n",
        "  else:\n",
        "    y_test = torch.tensor(y_test, dtype=torch.long)\n",
        "    return X_test, y_test"
      ]
    },
    {
      "cell_type": "code",
      "execution_count": 37,
      "metadata": {
        "id": "_8fLIj14LvRB"
      },
      "outputs": [],
      "source": [
        "from torch.utils.data import Dataset\n",
        "class NEWSDataset(Dataset):\n",
        "  def __init__(self, X, y):\n",
        "    self.x = X\n",
        "    self.y = y\n",
        "    \n",
        "  def __getitem__(self, idx):\n",
        "    return {\n",
        "        'input_ids': self.x['input_ids'][idx],\n",
        "        'label': self.y[idx]\n",
        "        }\n",
        "\n",
        "  def __len__(self):\n",
        "    return self.y.size(0)"
      ]
    },
    {
      "cell_type": "code",
      "execution_count": 38,
      "metadata": {
        "id": "HtW_Aos1W0xg"
      },
      "outputs": [],
      "source": [
        "def collete_fn(examples):\n",
        "  input_ids_list = []\n",
        "  labels = []\n",
        "  for example in examples:\n",
        "    input_ids_list.append(example['input_ids'])\n",
        "    labels.append(example['label'])\n",
        "  # find the longest sentence in input_ids_list\n",
        "  max_length = max(len(input_ids) for input_ids in input_ids_list)\n",
        "\n",
        "  # create tensor, dimension = sample_size * max_length\n",
        "  input_ids_tensor = torch.zeros((len(labels), max_length), dtype=torch.long)\n",
        "  # fill tensor \n",
        "  for i, input_ids in enumerate(input_ids_list):\n",
        "    seq_len = len(input_ids)\n",
        "    input_ids_tensor[i, : seq_len] = torch.tensor(input_ids, dtype=torch.long)\n",
        "  return {'input_ids': input_ids_tensor,\n",
        "          'label': torch.tensor(labels, dtype=torch.long)} \n"
      ]
    },
    {
      "cell_type": "code",
      "execution_count": 39,
      "metadata": {
        "id": "7EpgrXNsl-LZ"
      },
      "outputs": [],
      "source": [
        "from torch.utils.data import DataLoader\n",
        "\n",
        "def build_dataloader(config, vocab):\n",
        "  X_train, y_train, X_val, y_val, label2id, id2label = read_data(config, token2id, mode='train')\n",
        "  X_test, y_test = read_data(config, token2id, mode='test')\n",
        "  train_dataset = NEWSDataset(X_train, y_train)\n",
        "  val_dataset = NEWSDataset(X_val, y_val)\n",
        "  test_dataset = NEWSDataset(X_test, y_test)\n",
        "\n",
        "  train_dataloader = DataLoader(dataset=train_dataset, batch_size=config['batch_size'], num_workers=4, shuffle=True, collate_fn=collete_fn)\n",
        "  val_dataloader = DataLoader(dataset=val_dataset, batch_size=config['batch_size'], num_workers=4, shuffle=False, collate_fn=collete_fn)\n",
        "  test_dataloader = DataLoader(dataset=test_dataset, batch_size=config['batch_size'], num_workers=4, shuffle=False, collate_fn=collete_fn)\n",
        "  return id2label, train_dataloader, val_dataloader, test_dataloader"
      ]
    },
    {
      "cell_type": "code",
      "execution_count": 40,
      "metadata": {
        "colab": {
          "base_uri": "https://localhost:8080/"
        },
        "id": "ZHpRG2j2tOMa",
        "outputId": "309704dd-aa6e-460c-f367-101a35f5d064"
      },
      "outputs": [
        {
          "output_type": "stream",
          "name": "stderr",
          "text": [
            "/usr/local/lib/python3.7/dist-packages/torch/utils/data/dataloader.py:490: UserWarning: This DataLoader will create 4 worker processes in total. Our suggested max number of worker in current system is 2, which is smaller than what this DataLoader is going to create. Please be aware that excessive worker creation might get DataLoader running slow or even freeze, lower the worker number to avoid potential slowness/freeze if necessary.\n",
            "  cpuset_checked))\n"
          ]
        }
      ],
      "source": [
        "id2label, train_dataloader, val_dataloader, test_dataloader = build_dataloader(config, vocab)"
      ]
    },
    {
      "cell_type": "code",
      "execution_count": 41,
      "metadata": {
        "colab": {
          "base_uri": "https://localhost:8080/"
        },
        "id": "s0UZMmLD1kXV",
        "outputId": "af29fda0-b977-4d8d-a6af-4461a07b208a"
      },
      "outputs": [
        {
          "output_type": "stream",
          "name": "stderr",
          "text": [
            "/usr/local/lib/python3.7/dist-packages/torch/utils/data/dataloader.py:490: UserWarning: This DataLoader will create 4 worker processes in total. Our suggested max number of worker in current system is 2, which is smaller than what this DataLoader is going to create. Please be aware that excessive worker creation might get DataLoader running slow or even freeze, lower the worker number to avoid potential slowness/freeze if necessary.\n",
            "  cpuset_checked))\n"
          ]
        },
        {
          "output_type": "stream",
          "name": "stdout",
          "text": [
            "tensor([[24721,  2610, 20301,  ...,     0,     0,     0],\n",
            "        [    1,     1, 17923,  ...,     0,     0,     0],\n",
            "        [10417,    13,    29,  ...,     0,     0,     0],\n",
            "        ...,\n",
            "        [  348,    68,  3295,  ...,     0,     0,     0],\n",
            "        [    1,   102, 17883,  ...,     0,     0,     0],\n",
            "        [14909,  7163,   389,  ...,     0,     0,     0]])\n"
          ]
        }
      ],
      "source": [
        "# sentence -> [word1, word2, word3] -> [id1, id2, id3]\n",
        "for batch in train_dataloader:\n",
        "  print(batch['input_ids'])\n",
        "  break"
      ]
    },
    {
      "cell_type": "code",
      "source": [
        "X_train, y_train, X_val, y_val, label2id, id2label = read_data(config, token2id, mode='train')\n",
        "X_test, y_test = read_data(config, token2id, mode='test')"
      ],
      "metadata": {
        "id": "ar5w9jkQ9gMa"
      },
      "execution_count": null,
      "outputs": []
    },
    {
      "cell_type": "code",
      "execution_count": 42,
      "metadata": {
        "id": "x0nKXWDsEIMK"
      },
      "outputs": [],
      "source": [
        "model_config = {\n",
        "    'embedding_pretrained' : embedding,\n",
        "    'num_filters' : 256,\n",
        "    'emb_size' : embedding.shape[1],\n",
        "    'dropout' : 0.3,\n",
        "    'filter_sizes' : [2,3,5],\n",
        "    'num_classes' : len(label2id)\n",
        "}"
      ]
    },
    {
      "cell_type": "markdown",
      "source": [
        "# TextCNN"
      ],
      "metadata": {
        "id": "pE3fc10qZubj"
      }
    },
    {
      "cell_type": "code",
      "execution_count": 63,
      "metadata": {
        "id": "EX0USxa0EIML"
      },
      "outputs": [],
      "source": [
        "import torch.nn.functional as F\n",
        "class Model(nn.Module):\n",
        "    def __init__(self, config):\n",
        "      super(Model, self).__init__()\n",
        "      # create embedding\n",
        "      self.embedding = nn.Embedding.from_pretrained(config['embedding_pretrained'].float(), freeze=True)\n",
        "      # convolution layer\n",
        "      self.convs = nn.ModuleList([nn.Conv2d(1, config['num_filters'], (k, config['emb_size'])) for k in config['filter_sizes']])\n",
        "      # add dropout\n",
        "      self.dropout = nn.Dropout(config['dropout'])\n",
        "      # linear layer\n",
        "      self.fc = nn.Linear(config['num_filters'] * len(config['filter_sizes']), config['num_classes'])\n",
        "\n",
        "    def convs_and_pool(self, x, conv):\n",
        "\n",
        "        x = F.relu(conv(x)).squeeze(3)\n",
        "        x = F.max_pool1d(x, x.size(2)).squeeze(2)\n",
        "        return x\n",
        "\n",
        "    def forward(self, input_ids=None, label=None):\n",
        "        # out [batch_size, seq_len, embedding_dim]\n",
        "        out = self.embedding(input_ids)\n",
        "        \n",
        "        # H: seq_len; W:embedding_dim\n",
        "        # out [batch_size, 1, seq_len, embedding_dim]\n",
        "        out = out.unsqueeze(1)\n",
        "\n",
        "        # (batch_size, out_channels)\n",
        "        out = torch.cat([self.convs_and_pool(out, conv) for conv in self.convs], 1)\n",
        "\n",
        "        out = self.dropout(out)\n",
        "\n",
        "        out = self.fc(out)\n",
        "\n",
        "        output = (out, )\n",
        "\n",
        "        # During training\n",
        "        if label is not None: \n",
        "            loss_fct = nn.CrossEntropyLoss()\n",
        "            loss = loss_fct(out, label)\n",
        "            output = (loss, ) + output\n",
        "\n",
        "        # train output (loss, out)\n",
        "        # test output (out)\n",
        "        return output"
      ]
    },
    {
      "cell_type": "code",
      "execution_count": 64,
      "metadata": {
        "id": "WWiOyJk8EIMM"
      },
      "outputs": [],
      "source": [
        "model = Model(model_config)"
      ]
    },
    {
      "cell_type": "markdown",
      "source": [
        "# Training model"
      ],
      "metadata": {
        "id": "1pe9VbGfsVay"
      }
    },
    {
      "cell_type": "code",
      "source": [
        "from torch.optim import AdamW"
      ],
      "metadata": {
        "id": "vMcQU0G-sUfr"
      },
      "execution_count": 47,
      "outputs": []
    },
    {
      "cell_type": "code",
      "source": [
        "from sklearn.metrics import f1_score\n",
        "from sklearn.metrics import accuracy_score\n",
        "from sklearn.metrics import recall_score\n",
        "from sklearn.metrics import precision_score\n",
        "\n",
        "def evaluation(config, model, val_dataloader):\n",
        "    model.eval()\n",
        "    preds = []\n",
        "    labels = []\n",
        "    val_loss =0.\n",
        "    val_iterator = tqdm(val_dataloader, desc='Evaluation', total=len(val_dataloader))\n",
        "    with torch.no_grad():\n",
        "        for batch in val_iterator:\n",
        "            labels.append(batch['label'])\n",
        "            batch = {item: value.to(config['device']) for item, value in batch.items()}\n",
        "\n",
        "            # val output (loss, out)\n",
        "            loss, logits = model(**batch)[:2]\n",
        "            val_loss += loss.item()\n",
        "\n",
        "            preds.append(logits.argmax(dim=-1).detach().cpu())\n",
        "    \n",
        "    avg_val_loss = val_loss/len(val_dataloader)\n",
        "    labels = torch.cat(labels, dim=0).numpy()\n",
        "    preds = torch.cat(preds, dim=0).numpy()\n",
        "\n",
        "    accuracy = accuracy_score(labels, preds)\n",
        "    recall = recall_score(labels, preds, average='macro')\n",
        "    precision = precision_score(labels, preds, average='macro')\n",
        "    f1 = f1_score(labels, preds, average='macro')\n",
        "\n",
        "    return [avg_val_loss, accuracy, recall, precision, f1]"
      ],
      "metadata": {
        "id": "m7WCSebCuxdO"
      },
      "execution_count": 66,
      "outputs": []
    },
    {
      "cell_type": "code",
      "execution_count": 80,
      "metadata": {
        "id": "CoXxwVCnEIMM"
      },
      "outputs": [],
      "source": [
        "def train(model, config, id2label, train_dataloader, val_dataloader):\n",
        "  optimer = AdamW(model.parameters(), lr=config['learning_rate'])\n",
        "  model.to(config['device'])\n",
        "  \n",
        "  global_step = 0\n",
        "  train_loss = 0\n",
        "  logging_loss = 0\n",
        "  accuracys = []\n",
        "\n",
        "  for epoch in range(config['num_epochs']):\n",
        "    train_iterator = train_dataloader\n",
        "    model.train()\n",
        "    for batch in train_iterator:\n",
        "      batch = {item: value.to(config['device']) for item, value in batch.items()}\n",
        "      # train output (loss, out)\n",
        "      loss = model(**batch)[0]\n",
        "      model.zero_grad()\n",
        "      loss.backward()\n",
        "      optimer.step()\n",
        "      train_loss += loss\n",
        "      global_step += 1\n",
        "\n",
        "      if global_step % config['logging_step'] == 0:\n",
        "                print_train_loss = (train_loss - logging_loss) / config['logging_step']\n",
        "                logging_loss = train_loss\n",
        "                result = evaluation(config, model, val_dataloader)\n",
        "                avg_val_loss, accuracy = result[0], result[1]\n",
        "                accuracys.append(accuracy)\n",
        "                print_log = f'>>> training loss: {print_train_loss:.4f}, valid loss: {avg_val_loss:.4f}, valid accuracy: {accuracy:.4f}'\n",
        "                print(print_log)\n",
        "                model.train()\n",
        "\n",
        "    return model, accuracys"
      ]
    },
    {
      "cell_type": "code",
      "execution_count": 81,
      "metadata": {
        "id": "TkRZiSkJEIMM",
        "colab": {
          "base_uri": "https://localhost:8080/"
        },
        "outputId": "9607a77c-cb16-4430-b1c2-4a3fea42298f"
      },
      "outputs": [
        {
          "output_type": "stream",
          "name": "stderr",
          "text": [
            "/usr/local/lib/python3.7/dist-packages/torch/utils/data/dataloader.py:490: UserWarning: This DataLoader will create 4 worker processes in total. Our suggested max number of worker in current system is 2, which is smaller than what this DataLoader is going to create. Please be aware that excessive worker creation might get DataLoader running slow or even freeze, lower the worker number to avoid potential slowness/freeze if necessary.\n",
            "  cpuset_checked))\n",
            "Evaluation: 100%|██████████| 84/84 [00:12<00:00,  6.78it/s]\n"
          ]
        },
        {
          "output_type": "stream",
          "name": "stdout",
          "text": [
            ">>> training loss: 0.9816, valid loss: 1.4050, valid accuracy: 0.5309\n"
          ]
        },
        {
          "output_type": "stream",
          "name": "stderr",
          "text": [
            "\rEvaluation:   0%|          | 0/84 [00:00<?, ?it/s]/usr/local/lib/python3.7/dist-packages/torch/utils/data/dataloader.py:490: UserWarning: This DataLoader will create 4 worker processes in total. Our suggested max number of worker in current system is 2, which is smaller than what this DataLoader is going to create. Please be aware that excessive worker creation might get DataLoader running slow or even freeze, lower the worker number to avoid potential slowness/freeze if necessary.\n",
            "  cpuset_checked))\n",
            "Evaluation: 100%|██████████| 84/84 [00:07<00:00, 11.35it/s]\n"
          ]
        },
        {
          "output_type": "stream",
          "name": "stdout",
          "text": [
            ">>> training loss: 0.0000, valid loss: 1.4001, valid accuracy: 0.5305\n"
          ]
        },
        {
          "output_type": "stream",
          "name": "stderr",
          "text": [
            "\rEvaluation:   0%|          | 0/84 [00:00<?, ?it/s]/usr/local/lib/python3.7/dist-packages/torch/utils/data/dataloader.py:490: UserWarning: This DataLoader will create 4 worker processes in total. Our suggested max number of worker in current system is 2, which is smaller than what this DataLoader is going to create. Please be aware that excessive worker creation might get DataLoader running slow or even freeze, lower the worker number to avoid potential slowness/freeze if necessary.\n",
            "  cpuset_checked))\n",
            "Evaluation: 100%|██████████| 84/84 [00:07<00:00, 11.38it/s]\n"
          ]
        },
        {
          "output_type": "stream",
          "name": "stdout",
          "text": [
            ">>> training loss: 0.0000, valid loss: 1.3973, valid accuracy: 0.5264\n"
          ]
        },
        {
          "output_type": "stream",
          "name": "stderr",
          "text": [
            "\rEvaluation:   0%|          | 0/84 [00:00<?, ?it/s]/usr/local/lib/python3.7/dist-packages/torch/utils/data/dataloader.py:490: UserWarning: This DataLoader will create 4 worker processes in total. Our suggested max number of worker in current system is 2, which is smaller than what this DataLoader is going to create. Please be aware that excessive worker creation might get DataLoader running slow or even freeze, lower the worker number to avoid potential slowness/freeze if necessary.\n",
            "  cpuset_checked))\n",
            "Evaluation: 100%|██████████| 84/84 [00:07<00:00, 10.68it/s]\n"
          ]
        },
        {
          "output_type": "stream",
          "name": "stdout",
          "text": [
            ">>> training loss: 0.0000, valid loss: 1.3989, valid accuracy: 0.5347\n"
          ]
        },
        {
          "output_type": "stream",
          "name": "stderr",
          "text": [
            "\rEvaluation:   0%|          | 0/84 [00:00<?, ?it/s]/usr/local/lib/python3.7/dist-packages/torch/utils/data/dataloader.py:490: UserWarning: This DataLoader will create 4 worker processes in total. Our suggested max number of worker in current system is 2, which is smaller than what this DataLoader is going to create. Please be aware that excessive worker creation might get DataLoader running slow or even freeze, lower the worker number to avoid potential slowness/freeze if necessary.\n",
            "  cpuset_checked))\n",
            "Evaluation: 100%|██████████| 84/84 [00:07<00:00, 10.53it/s]\n"
          ]
        },
        {
          "output_type": "stream",
          "name": "stdout",
          "text": [
            ">>> training loss: 0.0000, valid loss: 1.3812, valid accuracy: 0.5345\n"
          ]
        },
        {
          "output_type": "stream",
          "name": "stderr",
          "text": [
            "\rEvaluation:   0%|          | 0/84 [00:00<?, ?it/s]/usr/local/lib/python3.7/dist-packages/torch/utils/data/dataloader.py:490: UserWarning: This DataLoader will create 4 worker processes in total. Our suggested max number of worker in current system is 2, which is smaller than what this DataLoader is going to create. Please be aware that excessive worker creation might get DataLoader running slow or even freeze, lower the worker number to avoid potential slowness/freeze if necessary.\n",
            "  cpuset_checked))\n",
            "Evaluation: 100%|██████████| 84/84 [00:08<00:00, 10.12it/s]\n"
          ]
        },
        {
          "output_type": "stream",
          "name": "stdout",
          "text": [
            ">>> training loss: 0.0000, valid loss: 1.3700, valid accuracy: 0.5388\n"
          ]
        },
        {
          "output_type": "stream",
          "name": "stderr",
          "text": [
            "\rEvaluation:   0%|          | 0/84 [00:00<?, ?it/s]/usr/local/lib/python3.7/dist-packages/torch/utils/data/dataloader.py:490: UserWarning: This DataLoader will create 4 worker processes in total. Our suggested max number of worker in current system is 2, which is smaller than what this DataLoader is going to create. Please be aware that excessive worker creation might get DataLoader running slow or even freeze, lower the worker number to avoid potential slowness/freeze if necessary.\n",
            "  cpuset_checked))\n",
            "Evaluation: 100%|██████████| 84/84 [00:07<00:00, 11.23it/s]\n"
          ]
        },
        {
          "output_type": "stream",
          "name": "stdout",
          "text": [
            ">>> training loss: 0.0000, valid loss: 1.3931, valid accuracy: 0.5266\n"
          ]
        }
      ],
      "source": [
        "best_model, accuracys = train(model, config, id2label, train_dataloader, val_dataloader)"
      ]
    },
    {
      "cell_type": "code",
      "source": [
        "accuracys"
      ],
      "metadata": {
        "colab": {
          "base_uri": "https://localhost:8080/"
        },
        "id": "t1JbhDVT3r5c",
        "outputId": "18d0249a-e633-4e1d-aa31-7a2edf415d5d"
      },
      "execution_count": 82,
      "outputs": [
        {
          "output_type": "execute_result",
          "data": {
            "text/plain": [
              "[0.5309220389805097,\n",
              " 0.5305472263868066,\n",
              " 0.526424287856072,\n",
              " 0.5346701649175413,\n",
              " 0.5344827586206896,\n",
              " 0.5387931034482759,\n",
              " 0.5266116941529235]"
            ]
          },
          "metadata": {},
          "execution_count": 82
        }
      ]
    },
    {
      "cell_type": "code",
      "execution_count": 83,
      "metadata": {
        "id": "_ksq3LiHEIMN"
      },
      "outputs": [],
      "source": [
        "def predict(config, id2label, model, test_dataloader):\n",
        "    test_iterator = tqdm(test_dataloader, desc='Evaluation', total=len(test_dataloader))\n",
        "    model.eval()\n",
        "    test_preds = []\n",
        "    with torch.no_grad():\n",
        "        for batch in test_iterator:\n",
        "            batch = {item: value.to(config['device']) for item, value in batch.items()}\n",
        "\n",
        "            logits = model(**batch)[1]\n",
        "\n",
        "            test_preds.append(logits.argmax(dim=-1).detach().cpu())\n",
        "    \n",
        "    test_preds = torch.cat(test_preds, dim=0).numpy()\n",
        "    test_preds = [id2label[id_] for id_ in test_preds]\n",
        "\n",
        "    test_df = pd.read_csv(config['test_file_path'], sep=',')\n",
        "    test_df.insert(1, column='label', value=test_preds)\n",
        "    test_df.drop(columns=['sentence'], inplace=True)\n",
        "    test_df.to_csv(SYSPATH  + 'prediction.csv', index=False, encoding='utf8')\n",
        "    return test_df"
      ]
    },
    {
      "cell_type": "code",
      "source": [
        "prediction = predict(config, id2label, best_model, test_dataloader)\n",
        "actual = pd.read_csv(SYSPATH  + 'solution.csv')"
      ],
      "metadata": {
        "colab": {
          "base_uri": "https://localhost:8080/"
        },
        "id": "aR-4M0qr0suh",
        "outputId": "99e4b1bf-018c-4026-ddb8-d7be47acc313"
      },
      "execution_count": 95,
      "outputs": [
        {
          "output_type": "stream",
          "name": "stderr",
          "text": [
            "\rEvaluation:   0%|          | 0/157 [00:00<?, ?it/s]/usr/local/lib/python3.7/dist-packages/torch/utils/data/dataloader.py:490: UserWarning: This DataLoader will create 4 worker processes in total. Our suggested max number of worker in current system is 2, which is smaller than what this DataLoader is going to create. Please be aware that excessive worker creation might get DataLoader running slow or even freeze, lower the worker number to avoid potential slowness/freeze if necessary.\n",
            "  cpuset_checked))\n",
            "Evaluation: 100%|██████████| 157/157 [00:18<00:00,  8.67it/s]\n"
          ]
        }
      ]
    },
    {
      "cell_type": "code",
      "source": [
        "accuracy_score(actual['label'], prediction['label'])"
      ],
      "metadata": {
        "colab": {
          "base_uri": "https://localhost:8080/"
        },
        "id": "DlUMVb1f7A2h",
        "outputId": "48a3350e-4bb9-46f3-cc56-f7c4631ef02d"
      },
      "execution_count": 96,
      "outputs": [
        {
          "output_type": "execute_result",
          "data": {
            "text/plain": [
              "0.5398"
            ]
          },
          "metadata": {},
          "execution_count": 96
        }
      ]
    },
    {
      "cell_type": "code",
      "source": [
        "recall_score(actual['label'], prediction['label'], average='weighted')"
      ],
      "metadata": {
        "colab": {
          "base_uri": "https://localhost:8080/"
        },
        "id": "MYlXhVTh7M7J",
        "outputId": "74e2c9d3-7872-4a03-d18f-e250aee6bf4b"
      },
      "execution_count": 97,
      "outputs": [
        {
          "output_type": "execute_result",
          "data": {
            "text/plain": [
              "0.5398"
            ]
          },
          "metadata": {},
          "execution_count": 97
        }
      ]
    },
    {
      "cell_type": "code",
      "source": [
        "precision_score(actual['label'], prediction['label'], average='weighted')"
      ],
      "metadata": {
        "colab": {
          "base_uri": "https://localhost:8080/"
        },
        "id": "bx_v5qUy7WHL",
        "outputId": "9e6fc3c8-e026-45df-a5a9-f74a43cd386d"
      },
      "execution_count": 98,
      "outputs": [
        {
          "output_type": "execute_result",
          "data": {
            "text/plain": [
              "0.551366540671474"
            ]
          },
          "metadata": {},
          "execution_count": 98
        }
      ]
    },
    {
      "cell_type": "code",
      "source": [
        "f1_score(actual['label'], prediction['label'], average='weighted')"
      ],
      "metadata": {
        "colab": {
          "base_uri": "https://localhost:8080/"
        },
        "id": "xR7LVBRZ7YmA",
        "outputId": "116adc75-40dd-479f-d2aa-2a26a2e33d54"
      },
      "execution_count": 99,
      "outputs": [
        {
          "output_type": "execute_result",
          "data": {
            "text/plain": [
              "0.5403641114111613"
            ]
          },
          "metadata": {},
          "execution_count": 99
        }
      ]
    }
  ],
  "metadata": {
    "colab": {
      "name": "textcnn.ipynb",
      "provenance": []
    },
    "kernelspec": {
      "display_name": "PaddlePaddle 1.8.0 (Python 3.5)",
      "language": "python",
      "name": "py35-paddle1.2.0"
    },
    "language_info": {
      "codemirror_mode": {
        "name": "ipython",
        "version": 3
      },
      "file_extension": ".py",
      "mimetype": "text/x-python",
      "name": "python",
      "nbconvert_exporter": "python",
      "pygments_lexer": "ipython3",
      "version": "3.7.4"
    }
  },
  "nbformat": 4,
  "nbformat_minor": 0
}